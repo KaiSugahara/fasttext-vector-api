{
 "cells": [
  {
   "cell_type": "markdown",
   "id": "5d26190d-989e-4174-9e9e-eb360dc7eaaf",
   "metadata": {},
   "source": [
    "## Requirements"
   ]
  },
  {
   "cell_type": "code",
   "execution_count": null,
   "id": "ce0e309e-d1b3-43ff-beca-4dd4856d0d85",
   "metadata": {},
   "outputs": [],
   "source": [
    "!pip3 install fasttext pandas"
   ]
  },
  {
   "cell_type": "markdown",
   "id": "e144bdcf-4fa8-45f0-8adc-d6bf6b3fd114",
   "metadata": {},
   "source": [
    "## generateEmbeddingDatabase.py"
   ]
  },
  {
   "cell_type": "code",
   "execution_count": null,
   "id": "1f468af7-5eb4-4988-9a9f-01d9de685db6",
   "metadata": {},
   "outputs": [],
   "source": [
    "import fasttext\n",
    "import pandas as pd\n",
    "import sqlite3"
   ]
  },
  {
   "cell_type": "code",
   "execution_count": null,
   "id": "d9cf8e1f-0738-42e5-b6ae-8d2021845767",
   "metadata": {},
   "outputs": [],
   "source": [
    "\"\"\"\n",
    "    学習済みモデルのLoad\n",
    "\"\"\"\n",
    "\n",
    "model = fasttext.load_model(\"jawiki_fasttext.bin\")\n",
    "model"
   ]
  },
  {
   "cell_type": "code",
   "execution_count": null,
   "id": "251e200a-0eaa-474b-ad2e-ee124c1731f6",
   "metadata": {},
   "outputs": [],
   "source": [
    "\"\"\"\n",
    "    Embedding Matrix\n",
    "\"\"\"\n",
    "\n",
    "input_matrix = model.get_input_matrix()"
   ]
  },
  {
   "cell_type": "code",
   "execution_count": null,
   "id": "9f1c5ecc-327b-4645-8a1e-713a78df8ed4",
   "metadata": {},
   "outputs": [],
   "source": [
    "\"\"\"\n",
    "    Word -> Embedding\n",
    "\"\"\"\n",
    "\n",
    "# Word -> ID\n",
    "word_map = pd.Series(range(len(model.get_words())), index=model.get_words())\n",
    "print(word_map)\n",
    "\n",
    "# Word -> Embedding\n",
    "word_embed = pd.DataFrame(input_matrix[word_map.values], index=word_map.index)\n",
    "word_embed.index.name = \"WORD\"\n",
    "word_embed.columns = \"DIM_\" + word_embed.columns.astype(str)\n",
    "\n",
    "# データベースに書き出し\n",
    "with sqlite3.connect('EMBEDDINGS.db') as con:\n",
    "\n",
    "    word_embed.to_sql(\n",
    "        name = 'WORD_EMBED',\n",
    "        con = con,\n",
    "        if_exists='replace', \n",
    "        index = True,\n",
    "        method = 'multi',\n",
    "        chunksize = 1000,\n",
    "    )\n",
    "    \n",
    "del(word_map, word_embed)"
   ]
  },
  {
   "cell_type": "code",
   "execution_count": null,
   "id": "48ae4a8f-65f4-4a8d-b0d7-4b5a1e08b741",
   "metadata": {},
   "outputs": [],
   "source": [
    "pd.DataFrame().to_csv(\"完了1.csv\")"
   ]
  },
  {
   "cell_type": "code",
   "execution_count": null,
   "id": "5194a3f6-5085-426a-98de-05b3ecf01d95",
   "metadata": {},
   "outputs": [],
   "source": [
    "\"\"\"\n",
    "    SubWord -> Embedding\n",
    "\"\"\"\n",
    "\n",
    "# SubWord -> ID\n",
    "subwords = {}\n",
    "for word in model.get_words():\n",
    "    subwords.update(dict(zip(*model.get_subwords(word))))\n",
    "subword_map = pd.Series(subwords)\n",
    "print(subword_map)\n",
    "\n",
    "# SubWord -> Embedding\n",
    "subword_embed = pd.DataFrame(input_matrix[subword_map.values], index=subword_map.index)\n",
    "subword_embed.index.name = \"SUBWORD\"\n",
    "subword_embed.columns = \"DIM_\" + subword_embed.columns.astype(str)\n",
    "\n",
    "# データベースに書き出し\n",
    "with sqlite3.connect('EMBEDDINGS.db') as con:\n",
    "    \n",
    "    subword_embed.to_sql(\n",
    "        name = 'SUBWORD_EMBED',\n",
    "        con = con,\n",
    "        if_exists='replace', \n",
    "        index = True,\n",
    "        method = 'multi',\n",
    "        chunksize = 1000,\n",
    "    )\n",
    "    \n",
    "del(subword_map, subword_embed)"
   ]
  },
  {
   "cell_type": "code",
   "execution_count": null,
   "id": "49dd826e-4a1c-40e6-9e97-5f409698356f",
   "metadata": {},
   "outputs": [],
   "source": [
    "pd.DataFrame().to_csv(\"完了2.csv\")"
   ]
  },
  {
   "cell_type": "markdown",
   "id": "f04eb1ce-6118-4158-a211-c4868398db57",
   "metadata": {},
   "source": [
    "## 検証"
   ]
  },
  {
   "cell_type": "code",
   "execution_count": null,
   "id": "c15d5f06-7145-4417-9c13-3dfbc227ab9f",
   "metadata": {},
   "outputs": [],
   "source": [
    "con = sqlite3.connect('EMBEDDINGS.db')"
   ]
  },
  {
   "cell_type": "code",
   "execution_count": null,
   "id": "720eebd5-9aab-45b5-97c9-d40ec7701b73",
   "metadata": {},
   "outputs": [],
   "source": [
    "query = \"SELECT * FROM WORD_EMBED LIMIT 5\"\n",
    "pd.read_sql_query(query, con)"
   ]
  },
  {
   "cell_type": "code",
   "execution_count": null,
   "id": "a8d9980b-0fe8-49c3-9963-9f1dbd67ead0",
   "metadata": {},
   "outputs": [],
   "source": [
    "query = \"SELECT * FROM SUBWORD_EMBED LIMIT 5\"\n",
    "pd.read_sql_query(query, con)"
   ]
  },
  {
   "cell_type": "code",
   "execution_count": null,
   "id": "52bf9bef-8002-4dfc-ae66-6f2debac931a",
   "metadata": {},
   "outputs": [],
   "source": [
    "con.close()"
   ]
  }
 ],
 "metadata": {
  "kernelspec": {
   "display_name": "Python 3 (ipykernel)",
   "language": "python",
   "name": "python3"
  },
  "language_info": {
   "codemirror_mode": {
    "name": "ipython",
    "version": 3
   },
   "file_extension": ".py",
   "mimetype": "text/x-python",
   "name": "python",
   "nbconvert_exporter": "python",
   "pygments_lexer": "ipython3",
   "version": "3.8.10"
  }
 },
 "nbformat": 4,
 "nbformat_minor": 5
}
