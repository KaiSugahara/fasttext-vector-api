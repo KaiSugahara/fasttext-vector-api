{
 "cells": [
  {
   "cell_type": "markdown",
   "id": "5d26190d-989e-4174-9e9e-eb360dc7eaaf",
   "metadata": {},
   "source": [
    "## Requirements"
   ]
  },
  {
   "cell_type": "code",
   "execution_count": null,
   "id": "ce0e309e-d1b3-43ff-beca-4dd4856d0d85",
   "metadata": {},
   "outputs": [],
   "source": [
    "!pip3 install numpy pandas sqlite3"
   ]
  },
  {
   "cell_type": "markdown",
   "id": "e144bdcf-4fa8-45f0-8adc-d6bf6b3fd114",
   "metadata": {},
   "source": [
    "## build/index.py"
   ]
  },
  {
   "cell_type": "code",
   "execution_count": null,
   "id": "1f468af7-5eb4-4988-9a9f-01d9de685db6",
   "metadata": {},
   "outputs": [],
   "source": [
    "import numpy as np\n",
    "import pandas as pd\n",
    "import sqlite3"
   ]
  },
  {
   "cell_type": "code",
   "execution_count": null,
   "id": "f7876136-bc92-4689-900b-b4d16fdf7c25",
   "metadata": {},
   "outputs": [],
   "source": [
    "def get_subwords(word):\n",
    "    \n",
    "    \"\"\"\n",
    "        func: \n",
    "            - 単語のサブワードを抽出（fastTextの処理に従う）\n",
    "        args:\n",
    "            - word: 対象の単語 str\n",
    "        returns:\n",
    "            - word: 対象の単語 str\n",
    "            - subwords: 抽出されたサブワードのリスト list[]\n",
    "    \"\"\"\n",
    "    \n",
    "    _word = f\"<{word}>\"\n",
    "    \n",
    "    subwords = []\n",
    "    \n",
    "    for l in [6, 5, 4, 3]:\n",
    "        for i in range(len(_word) - l + 1):\n",
    "            subwords.append(_word[i:i+l])\n",
    "            \n",
    "    return word, subwords\n",
    "\n",
    "def get_word_embedding(word, con):\n",
    "    \n",
    "    \"\"\"\n",
    "        func: \n",
    "            - 単語の埋め込みをデータベースから検索，検索結果を返す\n",
    "            - 見つからない場合は空ベクトルを返す\n",
    "        args:\n",
    "            - word: 対象の単語 str\n",
    "            - con: SQLのコネクタ\n",
    "        returns:\n",
    "            - 埋め込みベクトル np.array[1, embed_dim]\n",
    "    \"\"\"\n",
    "\n",
    "    query = f\"SELECT * FROM WORD_EMBED WHERE WORD = '{word}'\"\n",
    "    return pd.read_sql_query(query, con).iloc[:, 1:].values\n",
    "\n",
    "def get_subword_embeddings(subwords, con):\n",
    "    \n",
    "    \"\"\"\n",
    "        func: \n",
    "            - サブワードの埋め込みをデータベースから検索，検索結果を返す\n",
    "            - 見つからない場合は空ベクトルを返す\n",
    "        args:\n",
    "            - subwords: 対象のサブワードのリスト list[]\n",
    "            - con: SQLのコネクタ\n",
    "        returns:\n",
    "            - 埋め込み行列 np.array[subword_size, embed_dim]\n",
    "    \"\"\"\n",
    "\n",
    "    query = f\"SELECT * FROM SUBWORD_EMBED WHERE SUBWORD IN (%s)\" % \",\".join([\"?\"]*len(subwords))\n",
    "    return pd.read_sql_query(query, con, params=tuple(subwords)).iloc[:, 1:].values"
   ]
  },
  {
   "cell_type": "code",
   "execution_count": null,
   "id": "5194a3f6-5085-426a-98de-05b3ecf01d95",
   "metadata": {},
   "outputs": [],
   "source": [
    "con = sqlite3.connect('EMBEDDINGS.db')\n",
    "\n",
    "word_list = [\"東京スカイツリー\", \"Flax\"]\n",
    "word_subwords_list = [get_subwords(word) for word in word_list]\n",
    "\n",
    "word_embeddings = {word: (get_word_embedding(word, con=con), get_subword_embeddings(subwords, con=con)) for word, subwords in word_subwords_list}\n",
    "\n",
    "word_embeddings = {word: np.vstack(embeds).mean(axis=0).tolist() for word, embeds in word_embeddings.items()}\n",
    "word_embeddings"
   ]
  },
  {
   "cell_type": "markdown",
   "id": "f04eb1ce-6118-4158-a211-c4868398db57",
   "metadata": {
    "tags": []
   },
   "source": [
    "## 検証"
   ]
  },
  {
   "cell_type": "code",
   "execution_count": null,
   "id": "d574bb83-7dfd-42e8-8ebe-1a7cceb0fb97",
   "metadata": {},
   "outputs": [],
   "source": [
    "import requests"
   ]
  },
  {
   "cell_type": "code",
   "execution_count": null,
   "id": "f4555a65-234f-4104-9b85-b59b56fad3ba",
   "metadata": {},
   "outputs": [],
   "source": [
    "word_list = [\"東京スカイツリー\", \"Flax\"]\n",
    "response = requests.post('http://127.0.0.1', json=word_list)\n",
    "print(response.status_code)\n",
    "print(response.json())"
   ]
  }
 ],
 "metadata": {
  "kernelspec": {
   "display_name": "Python 3 (ipykernel)",
   "language": "python",
   "name": "python3"
  },
  "language_info": {
   "codemirror_mode": {
    "name": "ipython",
    "version": 3
   },
   "file_extension": ".py",
   "mimetype": "text/x-python",
   "name": "python",
   "nbconvert_exporter": "python",
   "pygments_lexer": "ipython3",
   "version": "3.8.10"
  }
 },
 "nbformat": 4,
 "nbformat_minor": 5
}
